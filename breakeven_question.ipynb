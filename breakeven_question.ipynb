{
 "cells": [
  {
   "cell_type": "markdown",
   "metadata": {},
   "source": [
    "# Quant question: Trading strategy breakeven win percentage"
   ]
  },
  {
   "cell_type": "markdown",
   "metadata": {},
   "source": [
    "### Question\n",
    "A question of the following form was asked by a senior quant analyst on Twitter:\n",
    "> Assume you have a trading strategy that over any week may gain some percent $W$ or lose some percent $L$. What is the win probability $p$ such that the system will be expected to breakeven?"
   ]
  },
  {
   "cell_type": "markdown",
   "metadata": {},
   "source": [
    "### Solve for answer\n",
    "First, frame the problem so that the geometric average return given $W$, $L$, and $p$ is zero:\n",
    "$(1+W)^p(1+L)^{1-p}-1=0$\n",
    "<br>\n",
    "Add 1 to both sides:\n",
    "$(1+W)^p(1+L)^{1-p}=1$\n",
    "<br>\n",
    "Take the log of both sides:\n",
    "$p\\ln(1+W)+(1-p)\\ln(1+L)=0$\n",
    "<br>\n",
    "Subtract $(1-p)\\ln(1+L)$ from both sides:\n",
    "$p\\ln(1+W)=-(1-p)\\ln(1+L)$\n",
    "<br>\n",
    "Expand the right-hand side:\n",
    "$p\\ln(1+W)=-\\ln(1+L)+p\\ln(1+L)$\n",
    "<br>\n",
    "Subtract $p\\ln(1+L)$ from both sides:\n",
    "$p\\ln(1+W)-p\\ln(1+L)=-\\ln(1+L)$\n",
    "<br>\n",
    "Factor the left-hand side:\n",
    "$p[\\ln(1+W)-\\ln(1+L)]=-\\ln(1+L)$\n",
    "<br>\n",
    "$p=-\\frac{\\ln(1+L)}{\\ln(1+W)-\\ln(1+L)}, W\\neq L$\n",
    "</center>"
   ]
  },
  {
   "cell_type": "markdown",
   "metadata": {},
   "source": [
    "### Answer\n",
    "Given a trading strategy that over any week may gain some percent $W$ or lose some percent $L$, the win probability $p$ such that the system will be expected to breakeven is given as:\n",
    "$p=-\\frac{\\ln(1+L)}{\\ln(1+W)-\\ln(1+L)}, W\\neq L$"
   ]
  }
 ],
 "metadata": {
  "kernelspec": {
   "display_name": "Python 3",
   "language": "python",
   "name": "python3"
  },
  "language_info": {
   "codemirror_mode": {
    "name": "ipython",
    "version": 3
   },
   "file_extension": ".py",
   "mimetype": "text/x-python",
   "name": "python",
   "nbconvert_exporter": "python",
   "pygments_lexer": "ipython3",
   "version": "3.7.10"
  }
 },
 "nbformat": 4,
 "nbformat_minor": 2
}
