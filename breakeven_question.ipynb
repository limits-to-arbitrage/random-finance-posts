{
 "cells": [
  {
   "cell_type": "markdown",
   "metadata": {},
   "source": [
    "# Quant question: Trading strategy breakeven win percentage"
   ]
  },
  {
   "cell_type": "markdown",
   "metadata": {},
   "source": [
    "### Question\n",
    "A question of the following form was asked by a senior quant analyst on Twitter:\n",
    "> Assume you have a trading strategy that over any week may gain some percent $W$ or lose some percent $L$. What is the win probability $p$ such that the system will be expected to breakeven?"
   ]
  },
  {
   "cell_type": "markdown",
   "metadata": {},
   "source": [
    "### Solve for answer\n",
    "First, frame the problem so that the geometric average return given $W$, $L$, and $p$ is zero:\n",
    "<br>\n",
    "<div align=\"center\"><b> $(1+W)^p(1+L)^{1-p}-1=0$ </b></div>\n",
    "\n",
    "Add 1 to both sides:\n",
    "<br>\n",
    "<div align=\"center\"><b> $(1+W)^p(1+L)^{1-p}=1$ </b></div>\n",
    "\n",
    "Take the log of both sides:\n",
    "<br>\n",
    "<div align=\"center\"><b> $p\\ln(1+W)+(1-p)\\ln(1+L)=0$ </b></div>\n",
    "\n",
    "Subtract $(1-p)\\ln(1+L)$ from both sides:\n",
    "<br>\n",
    "<div align=\"center\"><b> $p\\ln(1+W)=-(1-p)\\ln(1+L)$ </b></div>\n",
    "\n",
    "Expand the right-hand side:\n",
    "<br>\n",
    "<div align=\"center\"><b> $p\\ln(1+W)=-\\ln(1+L)+p\\ln(1+L)$ </b></div>\n",
    "\n",
    "Subtract $p\\ln(1+L)$ from both sides:\n",
    "<br>\n",
    "<div align=\"center\"><b> $p\\ln(1+W)-p\\ln(1+L)=-\\ln(1+L)$ </b></div>\n",
    "\n",
    "Factor the left-hand side:\n",
    "<br>\n",
    "<div align=\"center\"><b> $p[\\ln(1+W)-\\ln(1+L)]=-\\ln(1+L)$ </b></div>\n",
    "\n",
    "Divide both sides by $\\ln(1+W)-\\ln(1+L)$:\n",
    "<br>\n",
    "<div align=\"center\"><b> $p=-\\frac{\\ln(1+L)}{\\ln(1+W)-\\ln(1+L)}, W\\neq L$ </b></div>"
   ]
  },
  {
   "cell_type": "markdown",
   "metadata": {},
   "source": [
    "### Answer\n",
    "Given a trading strategy that over any week may gain some percent $W$ or lose some percent $L$, the win probability $p$ such that the system will be expected to breakeven is given as:\n",
    "<br>\n",
    "<div align=\"center\"><b> $p=-\\frac{\\ln(1+L)}{\\ln(1+W)-\\ln(1+L)}, W\\neq L$ </b></div>"
   ]
  }
 ],
 "metadata": {
  "kernelspec": {
   "display_name": "Python 3",
   "language": "python",
   "name": "python3"
  },
  "language_info": {
   "codemirror_mode": {
    "name": "ipython",
    "version": 3
   },
   "file_extension": ".py",
   "mimetype": "text/x-python",
   "name": "python",
   "nbconvert_exporter": "python",
   "pygments_lexer": "ipython3",
   "version": "3.7.10"
  }
 },
 "nbformat": 4,
 "nbformat_minor": 2
}
