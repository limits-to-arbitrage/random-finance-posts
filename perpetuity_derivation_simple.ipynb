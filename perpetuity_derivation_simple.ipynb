{
 "cells": [
  {
   "cell_type": "markdown",
   "id": "f22222bf",
   "metadata": {},
   "source": [
    "# Step-by-step Derivation: Perpetuity\n",
    "Below is a simple, step-by-step derivation of both the no-growth and growing perpetuity formula commonly used in valuation. There are, of course, several derivations available online, where many [use algebra](http://www.netmba.com/finance/time-value/perpetuity/#:~:text=Perpetuity%20Time%20Line&text=Because%20this%20cash%20flow%20continues,by%20(%201%20%2B%20i%20).) to manipulate the resultant series of cash flows. The following uses the basic closed-form sum of a geometric series and attempts to do so without skipping any intermediate steps."
   ]
  },
  {
   "cell_type": "markdown",
   "id": "e47c58d7",
   "metadata": {},
   "source": [
    "### No-growth Perpetuity\n",
    "Given a constant cash flow $C$ and annual discount rate $k$, note that value $V$ at time $0$ can be expressed as the present value of future cash flows, $V_0=\\frac{C}{1+k}+\\frac{C}{(1+k)^2}+\\frac{C}{(1+k)^3}+\\cdots$, or, as an infinite series,"
   ]
  },
  {
   "cell_type": "markdown",
   "id": "ee3fe708",
   "metadata": {},
   "source": [
    "<div align=\"center\"><b>\n",
    "    $V_0=\\sum^{\\infty}_{n=1}\\frac{C}{(1+k)^n}=C\\sum^{\\infty}_{n=1}\\frac{1}\n",
    "    {(1+k)^n}=C\\sum^{\\infty}_{n=1}\\big(\\frac{1}{1+k}\\big)^n,$ </b>\n",
    "</div>"
   ]
  },
  {
   "cell_type": "markdown",
   "id": "2cad1a69",
   "metadata": {},
   "source": [
    "and, when $k>0$, $\\frac{1}{1+k}<1$, so that the relevant series can be evaluated as a [geometric series](https://en.wikipedia.org/wiki/Geometric_series) with $r=\\frac{1}{1+k}$, whose sum is then written in closed form as"
   ]
  },
  {
   "cell_type": "markdown",
   "id": "9647d0db",
   "metadata": {},
   "source": [
    "<div align=\"center\"><b>\n",
    "    $\\sum^{\\infty}_{n=1}\\big(\\frac{1}{1+k}\\big)^n$ </b>\n",
    "</div>"
   ]
  },
  {
   "cell_type": "markdown",
   "id": "9034f461",
   "metadata": {},
   "source": [
    "<div align=\"center\"><b> \n",
    "    $\\sum^{\\infty}_{n=0}\\big(\\frac{1}{1+k}\\big)^{n+1}$ </b>\n",
    "</div>"
   ]
  },
  {
   "cell_type": "markdown",
   "id": "8c341d74",
   "metadata": {},
   "source": [
    "<div align=\"center\"><b> \n",
    "    $\\frac{1}{1+k}\\sum^{\\infty}_{n=0}\\big(\\frac{1}{1+k}\\big)^{n}$ </b>\n",
    "</div>"
   ]
  },
  {
   "cell_type": "markdown",
   "id": "e2ca979f",
   "metadata": {},
   "source": [
    "<div align=\"center\"><b> \n",
    "    $\\frac{1}{1+k}\\cdot\\frac{1}{1-r}$ </b>\n",
    "</div>"
   ]
  },
  {
   "cell_type": "markdown",
   "id": "6522005b",
   "metadata": {},
   "source": [
    "<div align=\"center\"><b> \n",
    "    $\\frac{1}{1+k}\\cdot\\frac{1}{1-\\frac{1}{1+k}}$ </b>\n",
    "</div>"
   ]
  },
  {
   "cell_type": "markdown",
   "id": "1515fef5",
   "metadata": {},
   "source": [
    "<div align=\"center\"><b> \n",
    "    $\\frac{1}{1+k}\\cdot\\frac{1}{\\frac{1+k}{1+k}-\\frac{1}\n",
    "    {1+k}}$ </b>\n",
    "</div>"
   ]
  },
  {
   "cell_type": "markdown",
   "id": "4a26eda9",
   "metadata": {},
   "source": [
    "<div align=\"center\"><b> \n",
    "    $\\frac{1}{1+k}\\cdot\\frac{1}{\\frac{k}{1+k}}$ </b>\n",
    "</div>"
   ]
  },
  {
   "cell_type": "markdown",
   "id": "4be317f3",
   "metadata": {},
   "source": [
    "<div align=\"center\"><b> \n",
    "    $\\frac{1}{1+k}\\cdot\\frac{1+k}{k}$ </b>\n",
    "</div>"
   ]
  },
  {
   "cell_type": "markdown",
   "id": "731aef03",
   "metadata": {},
   "source": [
    "<div align=\"center\"><b> \n",
    "    $\\frac{1}{k}$ </b>\n",
    "</div>"
   ]
  },
  {
   "cell_type": "markdown",
   "id": "a96eb9fa",
   "metadata": {},
   "source": [
    "so that $V_0$ can then be expressed as"
   ]
  },
  {
   "cell_type": "markdown",
   "id": "7031c72a",
   "metadata": {},
   "source": [
    "<div align=\"center\"><b> \n",
    "    $V_0=C\\sum^{\\infty}_{n=1}\\big(\\frac{1}{1+k}\\big)^n=C\\cdot\\frac{1}{k}=\\frac{C}{k}$ </b>\n",
    "</div>"
   ]
  },
  {
   "cell_type": "markdown",
   "id": "87931742",
   "metadata": {},
   "source": [
    "the common no-growth perpetuity formula."
   ]
  },
  {
   "cell_type": "markdown",
   "id": "97c227c8",
   "metadata": {},
   "source": [
    "### Growing Perpetuity\n",
    "Similarly, given a current period cash flow $C_0$, constant cash flow growth rate $g$, and annual discount rate $k$, note that value $V$ at time $0$ can be expressed as the present value of future cash flows as $V_0=\\frac{C_0(1+g)}{1+k}+\\frac{C_0(1+g)^2}{(1+k)^2}+\\frac{C_0(1+g)^3}{(1+k)^3}+\\cdots=\\frac{C_1}{1+k}+\\frac{C_2}{(1+k)^2}+\\frac{C_3}{(1+k)^3}+\\cdots$, or, as an infinite series,"
   ]
  },
  {
   "cell_type": "markdown",
   "id": "09cc2720",
   "metadata": {},
   "source": [
    "<div align=\"center\"><b> \n",
    "    $V_0=\\sum^{\\infty}_{n=1}\\frac{C_0(1+g)^n}{(1+k)^n}=C_0\\sum^{\\infty}_{n=1}\\frac{(1+g)^n}\n",
    "    {(1+k)^n}=C_0\\sum^{\\infty}_{n=1}\\big(\\frac{1+g}{1+k}\\big)^n,$ </b>\n",
    "</div>"
   ]
  },
  {
   "cell_type": "markdown",
   "id": "22f45080",
   "metadata": {},
   "source": [
    "and, when $k>g$, $\\frac{1+g}{1+k}<1$, so that the relevant series can be evaluated as a [geometric series](https://en.wikipedia.org/wiki/Geometric_series) with $r=\\frac{1+g}{1+k}$, whose sum is then written in closed form as"
   ]
  },
  {
   "cell_type": "markdown",
   "id": "226d7e5d",
   "metadata": {},
   "source": [
    "<div align=\"center\"><b> \n",
    "    $\\sum^{\\infty}_{n=1}\\big(\\frac{1+g}{1+k}\\big)^n$ </b>\n",
    "</div>"
   ]
  },
  {
   "cell_type": "markdown",
   "id": "34b15507",
   "metadata": {},
   "source": [
    "<div align=\"center\"><b> \n",
    "    $\\sum^{\\infty}_{n=0}\\big(\\frac{1+g}{1+k}\\big)^{n+1}$ </b>\n",
    "</div>"
   ]
  },
  {
   "cell_type": "markdown",
   "id": "34d87bee",
   "metadata": {},
   "source": [
    "<div align=\"center\"><b> \n",
    "    $\\frac{1+g}{1+k}\\sum^{\\infty}_{n=0}\\big(\\frac{1+g}{1+k}\\big)^{n}$ </b>\n",
    "</div>"
   ]
  },
  {
   "cell_type": "markdown",
   "id": "69528e09",
   "metadata": {},
   "source": [
    "<div align=\"center\"><b> \n",
    "    $\\frac{1+g}{1+k}\\cdot\\frac{1}{1-r}$ </b>\n",
    "</div>"
   ]
  },
  {
   "cell_type": "markdown",
   "id": "d62fca44",
   "metadata": {},
   "source": [
    "<div align=\"center\"><b> \n",
    "    $\\frac{1+g}{1+k}\\cdot\\frac{1}{1-\\frac{1+g}{1+k}}$ </b>\n",
    "</div>"
   ]
  },
  {
   "cell_type": "markdown",
   "id": "fd50d9c7",
   "metadata": {},
   "source": [
    "<div align=\"center\"><b> \n",
    "    $\\frac{1+g}{1+k}\\cdot\\frac{1}{\\frac{1+k}{1+k}-\\frac{1+g}\n",
    "    {1+k}}$ </b>\n",
    "</div>"
   ]
  },
  {
   "cell_type": "markdown",
   "id": "6c0fcffe",
   "metadata": {},
   "source": [
    "<div align=\"center\"><b> \n",
    "    $\\frac{1+g}{1+k}\\cdot\\frac{1}{\\frac{k-g}{1+k}}$ </b>\n",
    "</div>"
   ]
  },
  {
   "cell_type": "markdown",
   "id": "69173c3d",
   "metadata": {},
   "source": [
    "<div align=\"center\"><b> \n",
    "    $\\frac{1+g}{1+k}\\cdot\\frac{1+k}{k-g}$ </b>\n",
    "</div>"
   ]
  },
  {
   "cell_type": "markdown",
   "id": "7bae2ad2",
   "metadata": {},
   "source": [
    "<div align=\"center\"><b> \n",
    "    $\\frac{1+g}{k-g}$ </b>\n",
    "</div>"
   ]
  },
  {
   "cell_type": "markdown",
   "id": "0fde2873",
   "metadata": {},
   "source": [
    "so that $V_0$ can then be expressed as"
   ]
  },
  {
   "cell_type": "markdown",
   "id": "eac4dcf8",
   "metadata": {},
   "source": [
    "<div align=\"center\"><b> \n",
    "    $V_0=C_0\\sum^{\\infty}_{n=1}\\big(\\frac{1+g}{1+k}\\big)^n=C_0\\cdot\\frac{1+g}{k-g}=\\frac{C_0(1+g)}{k-g}=\\frac{C_1}{k-g}$ </b>\n",
    "</div>\n",
    "\n",
    "\\begin{align}\n",
    "\\end{align}"
   ]
  },
  {
   "cell_type": "markdown",
   "id": "df0f8338",
   "metadata": {},
   "source": [
    "the common growing perpetuity formula."
   ]
  }
 ],
 "metadata": {
  "kernelspec": {
   "display_name": "Python 3",
   "language": "python",
   "name": "python3"
  },
  "language_info": {
   "codemirror_mode": {
    "name": "ipython",
    "version": 3
   },
   "file_extension": ".py",
   "mimetype": "text/x-python",
   "name": "python",
   "nbconvert_exporter": "python",
   "pygments_lexer": "ipython3",
   "version": "3.7.10"
  }
 },
 "nbformat": 4,
 "nbformat_minor": 5
}
