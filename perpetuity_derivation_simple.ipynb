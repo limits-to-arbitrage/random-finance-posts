{
 "cells": [
  {
   "cell_type": "markdown",
   "id": "16798ef2",
   "metadata": {},
   "source": [
    "# Step-by-step Derivation Perpetuity\n",
    "Below is a simple, step-by-step derivation of both the no-growth and growing perpetuity formula commonly used in valuation. There are, of course, several derivations available online, where many [use algebra](http://www.netmba.com/finance/time-value/perpetuity/#:~:text=Perpetuity%20Time%20Line&text=Because%20this%20cash%20flow%20continues,by%20(%201%20%2B%20i%20).) to manipulate the resultant series of cash flows. The following uses the basic closed-form sum of a geometric series and attempts to do so without skipping any intermediate steps."
   ]
  },
  {
   "cell_type": "markdown",
   "id": "e9bc2cdf",
   "metadata": {},
   "source": [
    "### No-growth Perpetuity\n",
    "Given a constant cash flow $C$ and annual discount rate $k$, note that value $V$ at time $0$ can be expressed as the present value of future cash flows, $V_0=\\frac{C}{1+k}+\\frac{C}{(1+k)^2}+\\frac{C}{(1+k)^3}+\\cdots$, or, as an infinite series,"
   ]
  },
  {
   "cell_type": "markdown",
   "id": "ca215a1e",
   "metadata": {},
   "source": [
    "\\begin{align}\n",
    "V_0=\\sum^{\\infty}_{n=1}\\frac{C}{(1+k)^n}=C\\sum^{\\infty}_{n=1}\\frac{1}{(1+k)^n}=C\\sum^{\\infty}_{n=1}\\bigg(\\frac{1}{1+k}\\bigg)^n,\n",
    "\\end{align}"
   ]
  },
  {
   "cell_type": "markdown",
   "id": "250e451f",
   "metadata": {},
   "source": [
    "and, when $k>0$, $\\frac{1}{1+k}<1$, so that the relevant series can be evaluated as a [geometric series](https://en.wikipedia.org/wiki/Geometric_series) with $r=\\frac{1}{1+k}$, whose sum is then written in closed form as"
   ]
  },
  {
   "cell_type": "markdown",
   "id": "bc7a0072",
   "metadata": {},
   "source": [
    "\\begin{align}\n",
    "\\sum^{\\infty}_{n=1}\\bigg(\\frac{1}{1+k}\\bigg)^n\n",
    "\\end{align}"
   ]
  },
  {
   "cell_type": "markdown",
   "id": "f29fdec6",
   "metadata": {},
   "source": [
    "\\begin{align}\n",
    "\\sum^{\\infty}_{n=0}\\bigg(\\frac{1}{1+k}\\bigg)^{n+1}\n",
    "\\end{align}"
   ]
  },
  {
   "cell_type": "markdown",
   "id": "8e1329fe",
   "metadata": {},
   "source": [
    "\\begin{align}\n",
    "\\frac{1}{1+k}\\sum^{\\infty}_{n=0}\\bigg(\\frac{1}{1+k}\\bigg)^{n}\n",
    "\\end{align}"
   ]
  },
  {
   "cell_type": "markdown",
   "id": "40983943",
   "metadata": {},
   "source": [
    "\\begin{align}\n",
    "\\frac{1}{1+k}\\cdot\\frac{1}{1-r}\n",
    "\\end{align}"
   ]
  },
  {
   "cell_type": "markdown",
   "id": "1b8803be",
   "metadata": {},
   "source": [
    "\\begin{align}\n",
    "\\frac{1}{1+k}\\cdot\\frac{1}{1-\\frac{1}{1+k}}\n",
    "\\end{align}"
   ]
  },
  {
   "cell_type": "markdown",
   "id": "ac2a0396",
   "metadata": {},
   "source": [
    "\\begin{align}\n",
    "\\frac{1}{1+k}\\cdot\\frac{1}{\\frac{1+k}{1+k}-\\frac{1}\n",
    "{1+k}}\n",
    "\\end{align}"
   ]
  },
  {
   "cell_type": "markdown",
   "id": "1b33a4aa",
   "metadata": {},
   "source": [
    "\\begin{align}\n",
    "\\frac{1}{1+k}\\cdot\\frac{1}{\\frac{k}{1+k}}\n",
    "\\end{align}"
   ]
  },
  {
   "cell_type": "markdown",
   "id": "9d2355e9",
   "metadata": {},
   "source": [
    "\\begin{align}\n",
    "\\frac{1}{1+k}\\cdot\\frac{1+k}{k}\n",
    "\\end{align}"
   ]
  },
  {
   "cell_type": "markdown",
   "id": "ebfe0db2",
   "metadata": {},
   "source": [
    "\\begin{align}\n",
    "\\frac{1}{k}\n",
    "\\end{align}"
   ]
  },
  {
   "cell_type": "markdown",
   "id": "764e1b7f",
   "metadata": {},
   "source": [
    "so that $V_0$ can then be expressed as"
   ]
  },
  {
   "cell_type": "markdown",
   "id": "2faecdc4",
   "metadata": {},
   "source": [
    "\\begin{align}\n",
    "V_0=C\\sum^{\\infty}_{n=1}\\bigg(\\frac{1}{1+k}\\bigg)^n=C\\cdot\\frac{1}{k}=\\frac{C}{k}\n",
    "\\end{align}"
   ]
  },
  {
   "cell_type": "markdown",
   "id": "02e98a0f",
   "metadata": {},
   "source": [
    "the common no-growth perpetuity formula."
   ]
  },
  {
   "cell_type": "markdown",
   "id": "89a3e88a",
   "metadata": {},
   "source": [
    "### Growing Perpetuity\n",
    "Similarly, given a current period cash flow $C_0$, constant cash flow growth rate $g$, and annual discount rate $k$, note that value $V$ at time $0$ can be expressed as the present value of future cash flows as $V_0=\\frac{C_0(1+g)}{1+k}+\\frac{C_0(1+g)^2}{(1+k)^2}+\\frac{C_0(1+g)^3}{(1+k)^3}+\\cdots=\\frac{C_1}{1+k}+\\frac{C_2}{(1+k)^2}+\\frac{C_3}{(1+k)^3}+\\cdots$, or, as an infinite series,"
   ]
  },
  {
   "cell_type": "markdown",
   "id": "0bb3bd9d",
   "metadata": {},
   "source": [
    "\\begin{align}\n",
    "V_0=\\sum^{\\infty}_{n=1}\\frac{C_0(1+g)^n}{(1+k)^n}=C_0\\sum^{\\infty}_{n=1}\\frac{(1+g)^n}{(1+k)^n}=C_0\\sum^{\\infty}_{n=1}\\bigg(\\frac{1+g}{1+k}\\bigg)^n,\n",
    "\\end{align}"
   ]
  },
  {
   "cell_type": "markdown",
   "id": "1c98f900",
   "metadata": {},
   "source": [
    "and, when $k>g$, $\\frac{1+g}{1+k}<1$, so that the relevant series can be evaluated as a [geometric series](https://en.wikipedia.org/wiki/Geometric_series) with $r=\\frac{1+g}{1+k}$, whose sum is then written in closed form as"
   ]
  },
  {
   "cell_type": "markdown",
   "id": "8a2002fc",
   "metadata": {},
   "source": [
    "\\begin{align}\n",
    "\\sum^{\\infty}_{n=1}\\bigg(\\frac{1+g}{1+k}\\bigg)^n\n",
    "\\end{align}"
   ]
  },
  {
   "cell_type": "markdown",
   "id": "67b56b09",
   "metadata": {},
   "source": [
    "\\begin{align}\n",
    "\\sum^{\\infty}_{n=0}\\bigg(\\frac{1+g}{1+k}\\bigg)^{n+1}\n",
    "\\end{align}"
   ]
  },
  {
   "cell_type": "markdown",
   "id": "79a1c321",
   "metadata": {},
   "source": [
    "\\begin{align}\n",
    "\\frac{1+g}{1+k}\\sum^{\\infty}_{n=0}\\bigg(\\frac{1+g}{1+k}\\bigg)^{n}\n",
    "\\end{align}"
   ]
  },
  {
   "cell_type": "markdown",
   "id": "5ccb7b2b",
   "metadata": {},
   "source": [
    "\\begin{align}\n",
    "\\frac{1+g}{1+k}\\cdot\\frac{1}{1-r}\n",
    "\\end{align}"
   ]
  },
  {
   "cell_type": "markdown",
   "id": "0b2ea25b",
   "metadata": {},
   "source": [
    "\\begin{align}\n",
    "\\frac{1+g}{1+k}\\cdot\\frac{1}{1-\\frac{1+g}{1+k}}\n",
    "\\end{align}"
   ]
  },
  {
   "cell_type": "markdown",
   "id": "9b750a08",
   "metadata": {},
   "source": [
    "\\begin{align}\n",
    "\\frac{1+g}{1+k}\\cdot\\frac{1}{\\frac{1+k}{1+k}-\\frac{1+g}\n",
    "{1+k}}\n",
    "\\end{align}"
   ]
  },
  {
   "cell_type": "markdown",
   "id": "bc441b5f",
   "metadata": {},
   "source": [
    "\\begin{align}\n",
    "\\frac{1+g}{1+k}\\cdot\\frac{1}{\\frac{k-g}{1+k}}\n",
    "\\end{align}"
   ]
  },
  {
   "cell_type": "markdown",
   "id": "8c2f4dd8",
   "metadata": {},
   "source": [
    "\\begin{align}\n",
    "\\frac{1+g}{1+k}\\cdot\\frac{1+k}{k-g}\n",
    "\\end{align}"
   ]
  },
  {
   "cell_type": "markdown",
   "id": "4424c8a1",
   "metadata": {},
   "source": [
    "\\begin{align}\n",
    "\\frac{1+g}{k-g}\n",
    "\\end{align}"
   ]
  },
  {
   "cell_type": "markdown",
   "id": "6e6cdc47",
   "metadata": {},
   "source": [
    "so that $V_0$ can then be expressed as"
   ]
  },
  {
   "cell_type": "markdown",
   "id": "99d31587",
   "metadata": {},
   "source": [
    "\\begin{align}\n",
    "V_0=C_0\\sum^{\\infty}_{n=1}\\bigg(\\frac{1+g}{1+k}\\bigg)^n=C_0\\cdot\\frac{1+g}{k-g}=\\frac{C_0(1+g)}{k-g}=\\frac{C_1}{k-g}\n",
    "\\end{align}"
   ]
  },
  {
   "cell_type": "markdown",
   "id": "2d8e380b",
   "metadata": {},
   "source": [
    "the common growing perpetuity formula."
   ]
  }
 ],
 "metadata": {
  "kernelspec": {
   "display_name": "Python 3",
   "language": "python",
   "name": "python3"
  },
  "language_info": {
   "codemirror_mode": {
    "name": "ipython",
    "version": 3
   },
   "file_extension": ".py",
   "mimetype": "text/x-python",
   "name": "python",
   "nbconvert_exporter": "python",
   "pygments_lexer": "ipython3",
   "version": "3.7.10"
  }
 },
 "nbformat": 4,
 "nbformat_minor": 5
}
