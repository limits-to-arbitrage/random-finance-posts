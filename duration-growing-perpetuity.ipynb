{
 "cells": [
  {
   "cell_type": "markdown",
   "metadata": {},
   "source": [
    "## Simple duration of a growing perpetuity"
   ]
  },
  {
   "cell_type": "markdown",
   "metadata": {},
   "source": [
    "### Summary\n",
    "Simple derivation of the Macaulay duration of a growing perpetuity."
   ]
  },
  {
   "cell_type": "markdown",
   "metadata": {},
   "source": [
    "### Why write this?\n",
    "I was once asked by a friend \"what is the duration of a perpetuity?\" I replied with the Macaulay duration ($D_M$) of a simple perpetuity as $\\frac{1+k}{k}$, where $k$ is the discount rate. One could solve for this as the modified duration ($D_m$) of a simple perpetuity times $1+k$, or $D_M=(1+k)D_m$ where $D_m=-\\frac{1}{V}\\frac{\\partial V}{\\partial k}$. The value of the simple perpetuity, $V$, is given as $V=\\frac{C}{k}$ where $C$ is the constant, periodic cash flow. Note that as $-\\frac{1}{V}=-\\frac{k}{C}$ and $\\frac{\\partial V}{\\partial k}=-\\frac{C}{k^2}$, the modified duration is expressed as $D_m=\\frac{1}{k}$ and the Macaulay duration is then expressed as $D_M=(1+k)D_m=\\frac{1+k}{k}$.\n",
    "\n",
    "There are more insightful derivations of the duration of a perpetuity—among other places, [here](https://quant.stackexchange.com/questions/22288/duration-of-perpetual-bond) and [here](https://www.youtube.com/watch?v=TVe3EFURLxo)—while [others](https://analystnotes.com/cfa-study-notes-explain-how-a-bonds-maturity-coupon-and-yield-level-affect-its-interest-rate-risk.html) report the above seemingly as common knowledge. However, I have not come across an answer to the question \"what is the duration of a *growing* perpetuity\" as readily or expressed as simply, so I thought I would take one for the team and type this up."
   ]
  },
  {
   "cell_type": "markdown",
   "metadata": {},
   "source": [
    "### Simple duration of a growing perpetuity\n",
    "\n",
    "**TL;DR:** The Macaulay duration of a growing perpetuity is $\\frac{1+k}{k-g}$ where $k$ is the discount rate and $g$ is the growth rate.\n",
    "\n",
    "The abovementioned friend asked for the duration of a perpetuity to apply to a simple model of the value of a public stock, where the value of the stock was modeled as $V=\\frac{C}{k}$. Of course, a growing perpetuity is a step closer to reality, where, for example, the value of an unlevered firm at time $t=0$ can be expressed as $V_0=\\frac{E_1 (1-\\tau)(1-\\frac{g}{R})}{k-g}$, where $E_1$ is equal to expected annual pre-tax operating income at time $t+1$, $\\tau$ is the tax rate, $g$ is the perpetual growth rate such that $g\\leq r$ where $r$ is the risk-free rate, and $R$ is the return on capital. The numerator reduces to after-tax firm cash flow ($F$), as $E_1 (1-\\tau)$ is the expected after-tax operating profit multiplied by the payout ratio of $1-\\frac{g}{R}$ which is equal to one minus the reinvestment rate required to grow cash flow at $g$ given a return on capital of $R$, or $\\frac{g}{R}$, such that $F_1=E_1 (1-\\tau)(1-\\frac{g}{R})$. As such, $V_0=\\frac{F_1}{k-g}$, while noting that $F_1$ is a function of $g$ which is also in the denominator.\n",
    "\n",
    "I now drop the time subscripts and refer to value as $V$ and $t+1$ cash flow as $F$, so that the Macaulay duration of the *growing* perpetuity can be similarly expressed as the modified duration ($D_m$) of the growing perpetuity times $1+k$, or $D_M=(1+k)D_m$ where $D_m=-\\frac{1}{V}\\frac{\\partial V}{\\partial k}$. Now, note that as $-\\frac{1}{V}=-\\frac{k-g}{F}$ and $\\frac{\\partial V}{\\partial k}=-\\frac{F}{(k-g)^2}$, the modified duration is expressed as $D_m=\\frac{1}{k-g}$ and the Macaulay duration is then expressed as $D_M=(1+k)D_m=\\frac{1+k}{k-g}$.\n",
    "\n",
    "**If you want more detail on that last part:** Note that $\\frac{\\partial V}{\\partial k}=\\frac{\\partial}{\\partial k}\\frac{F}{k-g}$ where $\\frac{\\partial}{\\partial k}\\frac{F}{k-g}=\\frac{\\partial}{\\partial k}F(k-g)^{-1}$ which simplifies to $-\\frac{F}{(k-g)^2}$. Multiplying this term by the negative reciprocal of $V=\\frac{F}{k-g}$ then solves for the modified duration of a growing perpetuity as $M_d=-\\frac{k-g}{F}\\times-\\frac{F}{(k-g)^2}=\\frac{1}{k-g}$. Finally, the Macaulay duration of the growing perpetuity is then expressed as $D_M=(1+k)D_m=\\frac{1+k}{k-g}$."
   ]
  }
 ],
 "metadata": {
  "kernelspec": {
   "display_name": "Python 3",
   "language": "python",
   "name": "python3"
  },
  "language_info": {
   "codemirror_mode": {
    "name": "ipython",
    "version": 3
   },
   "file_extension": ".py",
   "mimetype": "text/x-python",
   "name": "python",
   "nbconvert_exporter": "python",
   "pygments_lexer": "ipython3",
   "version": "3.8.5"
  }
 },
 "nbformat": 4,
 "nbformat_minor": 4
}
